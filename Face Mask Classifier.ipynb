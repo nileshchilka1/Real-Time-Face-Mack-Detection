{
 "cells": [
  {
   "cell_type": "code",
   "execution_count": 1,
   "metadata": {},
   "outputs": [],
   "source": [
    "import cv2\n",
    "import tensorflow as tf\n",
    "import numpy as np\n",
    "import matplotlib.pyplot as plt\n",
    "from glob import glob\n",
    "import os\n",
    "%matplotlib inline"
   ]
  },
  {
   "cell_type": "code",
   "execution_count": 2,
   "metadata": {},
   "outputs": [],
   "source": [
    "batch_size = 75\n",
    "epoch = 2\n",
    "num_classes = 2\n",
    "\n",
    "step_per_epoch = len(glob('processed_dataset/*/*'))//batch_size\n",
    "\n",
    "image_h, image_w = 128, 128"
   ]
  },
  {
   "cell_type": "code",
   "execution_count": 3,
   "metadata": {},
   "outputs": [],
   "source": [
    "X,Y = [],[]\n",
    "for fol_name in os.listdir('processed_dataset'):\n",
    "    if fol_name == 'without_mask':\n",
    "        for img_name in os.listdir(f'processed_dataset/{fol_name}'):\n",
    "            img = cv2.imread(f'processed_dataset/{fol_name}/{img_name}')\n",
    "            X.append(img)\n",
    "            Y.append(1)\n",
    "\n",
    "    else:\n",
    "        for img_name in os.listdir(f'processed_dataset/{fol_name}'):\n",
    "            img = cv2.imread(f'processed_dataset/{fol_name}/{img_name}')\n",
    "            X.append(img)\n",
    "            Y.append(0)\n",
    "\n",
    "              "
   ]
  },
  {
   "cell_type": "code",
   "execution_count": 4,
   "metadata": {},
   "outputs": [],
   "source": [
    "X = np.array(X)\n",
    "Y = np.asarray(Y).reshape((-1,1))"
   ]
  },
  {
   "cell_type": "code",
   "execution_count": 5,
   "metadata": {},
   "outputs": [],
   "source": [
    "X = X/255"
   ]
  },
  {
   "cell_type": "code",
   "execution_count": 6,
   "metadata": {},
   "outputs": [
    {
     "data": {
      "text/plain": [
       "(13263, 128, 128, 3)"
      ]
     },
     "execution_count": 6,
     "metadata": {},
     "output_type": "execute_result"
    }
   ],
   "source": [
    "X.shape"
   ]
  },
  {
   "cell_type": "code",
   "execution_count": 7,
   "metadata": {},
   "outputs": [],
   "source": [
    "#from sklearn.model_selection import train_test_split"
   ]
  },
  {
   "cell_type": "code",
   "execution_count": 8,
   "metadata": {},
   "outputs": [],
   "source": [
    "#X_train, X_test, y_train, y_test = train_test_split(X, y,test_size=0.10,random_state=42,stratify=y)"
   ]
  },
  {
   "cell_type": "code",
   "execution_count": 9,
   "metadata": {},
   "outputs": [],
   "source": [
    "#del X,y"
   ]
  },
  {
   "cell_type": "code",
   "execution_count": 10,
   "metadata": {},
   "outputs": [],
   "source": [
    "conv_base = tf.keras.applications.VGG16(include_top=False, input_shape=(image_w, image_h, 3),weights='imagenet')\n",
    "conv_base.trainable = False"
   ]
  },
  {
   "cell_type": "code",
   "execution_count": 11,
   "metadata": {},
   "outputs": [
    {
     "name": "stdout",
     "output_type": "stream",
     "text": [
      "Model: \"sequential\"\n",
      "_________________________________________________________________\n",
      "Layer (type)                 Output Shape              Param #   \n",
      "=================================================================\n",
      "vgg16 (Model)                (None, 4, 4, 512)         14714688  \n",
      "_________________________________________________________________\n",
      "flatten (Flatten)            (None, 8192)              0         \n",
      "_________________________________________________________________\n",
      "dense (Dense)                (None, 1024)              8389632   \n",
      "_________________________________________________________________\n",
      "dropout (Dropout)            (None, 1024)              0         \n",
      "_________________________________________________________________\n",
      "dense_1 (Dense)              (None, 1)                 1025      \n",
      "=================================================================\n",
      "Total params: 23,105,345\n",
      "Trainable params: 8,390,657\n",
      "Non-trainable params: 14,714,688\n",
      "_________________________________________________________________\n"
     ]
    }
   ],
   "source": [
    "from tensorflow.keras import models\n",
    "from tensorflow.keras import layers\n",
    "model = models.Sequential()\n",
    "model.add(conv_base)\n",
    "model.add(layers.Flatten())\n",
    "model.add(layers.Dense(1024, activation='relu'))\n",
    "model.add(layers.Dropout(0.5))\n",
    "model.add(layers.Dense(1, activation='sigmoid'))\n",
    "model.summary()\n",
    "\n"
   ]
  },
  {
   "cell_type": "code",
   "execution_count": 12,
   "metadata": {},
   "outputs": [],
   "source": [
    "model.compile(optimizer='adam',\n",
    "              loss='binary_crossentropy',\n",
    "              metrics=['accuracy'])\n",
    "\n",
    "callbacks = [\n",
    "    tf.keras.callbacks.ModelCheckpoint('face_mask.h5', \n",
    "                                       save_best_only=True,\n",
    "                                       monitor='loss')]\n"
   ]
  },
  {
   "cell_type": "code",
   "execution_count": null,
   "metadata": {},
   "outputs": [
    {
     "name": "stdout",
     "output_type": "stream",
     "text": [
      "Epoch 1/12\n",
      "176/176 [==============================] - 43s 242ms/step - loss: 0.0775 - accuracy: 0.9738\n",
      "Epoch 2/12\n",
      "176/176 [==============================] - 42s 239ms/step - loss: 0.0265 - accuracy: 0.9901\n",
      "Epoch 3/12\n",
      "176/176 [==============================] - 42s 239ms/step - loss: 0.0160 - accuracy: 0.9939\n",
      "Epoch 4/12\n",
      "176/176 [==============================] - 42s 239ms/step - loss: 0.0119 - accuracy: 0.9964\n",
      "Epoch 5/12\n",
      "176/176 [==============================] - 42s 239ms/step - loss: 0.0097 - accuracy: 0.9966\n",
      "Epoch 6/12\n",
      "176/176 [==============================] - 42s 239ms/step - loss: 0.0088 - accuracy: 0.9972\n",
      "Epoch 7/12\n",
      "176/176 [==============================] - 41s 234ms/step - loss: 0.0108 - accuracy: 0.9964\n",
      "Epoch 8/12\n",
      "176/176 [==============================] - 41s 234ms/step - loss: 0.0123 - accuracy: 0.9951\n",
      "Epoch 9/12\n",
      "176/176 [==============================] - 41s 234ms/step - loss: 0.0099 - accuracy: 0.9966\n",
      "Epoch 10/12\n",
      "176/176 [==============================] - 41s 234ms/step - loss: 0.0139 - accuracy: 0.9957\n",
      "Epoch 11/12\n",
      "176/176 [==============================] - 41s 234ms/step - loss: 0.0094 - accuracy: 0.9967\n",
      "Epoch 12/12\n",
      "120/176 [===================>..........] - ETA: 13s - loss: 0.0028 - accuracy: 0.9986"
     ]
    }
   ],
   "source": [
    "model.fit(X,Y,\n",
    "          batch_size=batch_size,\n",
    "          shuffle=True,\n",
    "          epochs=12,steps_per_epoch=step_per_epoch,\n",
    "          callbacks=callbacks)"
   ]
  },
  {
   "cell_type": "code",
   "execution_count": null,
   "metadata": {},
   "outputs": [],
   "source": []
  },
  {
   "cell_type": "code",
   "execution_count": null,
   "metadata": {},
   "outputs": [],
   "source": []
  },
  {
   "cell_type": "code",
   "execution_count": null,
   "metadata": {},
   "outputs": [],
   "source": []
  },
  {
   "cell_type": "code",
   "execution_count": null,
   "metadata": {},
   "outputs": [],
   "source": []
  },
  {
   "cell_type": "code",
   "execution_count": null,
   "metadata": {},
   "outputs": [],
   "source": []
  },
  {
   "cell_type": "code",
   "execution_count": null,
   "metadata": {},
   "outputs": [],
   "source": []
  },
  {
   "cell_type": "code",
   "execution_count": null,
   "metadata": {},
   "outputs": [],
   "source": []
  },
  {
   "cell_type": "code",
   "execution_count": 11,
   "metadata": {},
   "outputs": [
    {
     "name": "stdout",
     "output_type": "stream",
     "text": [
      "WARNING:tensorflow:From c:\\users\\aarti\\anaconda3\\envs\\torch\\lib\\site-packages\\tensorflow\\python\\ops\\resource_variable_ops.py:1817: calling BaseResourceVariable.__init__ (from tensorflow.python.ops.resource_variable_ops) with constraint is deprecated and will be removed in a future version.\n",
      "Instructions for updating:\n",
      "If using Keras pass *_constraint arguments to layers.\n",
      "INFO:tensorflow:Assets written to: face_mask\\assets\n"
     ]
    }
   ],
   "source": [
    "model.save('face_mask')"
   ]
  },
  {
   "cell_type": "code",
   "execution_count": 1,
   "metadata": {},
   "outputs": [],
   "source": [
    "from tensorflow.keras import models\n",
    "model1 = models.load_model('face_mask')"
   ]
  },
  {
   "cell_type": "code",
   "execution_count": 2,
   "metadata": {},
   "outputs": [],
   "source": [
    "import cv2\n",
    "import tensorflow as tf\n",
    "import numpy as np\n",
    "import matplotlib.pyplot as plt\n",
    "from glob import glob\n",
    "import os"
   ]
  },
  {
   "cell_type": "code",
   "execution_count": 3,
   "metadata": {},
   "outputs": [],
   "source": [
    "batch_size = 32\n",
    "epoch = 2\n",
    "num_classes = 2\n",
    "\n",
    "step_per_epoch = 6000//batch_size\n",
    "\n",
    "image_h, image_w = 224, 224\n",
    "classes = sorted(['with_mask','without_mask'])"
   ]
  },
  {
   "cell_type": "code",
   "execution_count": 4,
   "metadata": {},
   "outputs": [],
   "source": [
    "X,y = [],[]\n",
    "count = 0\n",
    "for fol_name in os.listdir('dataset'):\n",
    "    if fol_name == 'without_mask':\n",
    "        for img_name in os.listdir(f'dataset/{fol_name}'):\n",
    "            img = cv2.imread(f'dataset/{fol_name}/{img_name}')\n",
    "            img = cv2.resize(img, (image_w, image_h),interpolation=cv2.INTER_AREA)\n",
    "            X.append(img)\n",
    "            y.append(1)\n",
    "            count+=1\n",
    "            if count == 30:\n",
    "                count=0\n",
    "                break\n",
    "    else:\n",
    "        for img_name in os.listdir(f'dataset/{fol_name}'):\n",
    "            img = cv2.imread(f'dataset/{fol_name}/{img_name}')\n",
    "            img = cv2.resize(img, (image_w, image_h),interpolation=cv2.INTER_AREA)\n",
    "            X.append(img)\n",
    "            y.append(0)\n",
    "            count+=1\n",
    "            if count == 30:\n",
    "                count=0\n",
    "                break\n",
    "              "
   ]
  },
  {
   "cell_type": "code",
   "execution_count": 5,
   "metadata": {},
   "outputs": [],
   "source": [
    "X = np.array(X)\n",
    "y = np.asarray(y).reshape((-1,1))"
   ]
  },
  {
   "cell_type": "code",
   "execution_count": 6,
   "metadata": {},
   "outputs": [],
   "source": [
    "X = X/255"
   ]
  },
  {
   "cell_type": "code",
   "execution_count": 13,
   "metadata": {},
   "outputs": [
    {
     "ename": "UnboundLocalError",
     "evalue": "local variable 'batch_outputs' referenced before assignment",
     "output_type": "error",
     "traceback": [
      "\u001b[1;31m---------------------------------------------------------------------------\u001b[0m",
      "\u001b[1;31mUnboundLocalError\u001b[0m                         Traceback (most recent call last)",
      "\u001b[1;32m<ipython-input-13-b3f732858ecf>\u001b[0m in \u001b[0;36m<module>\u001b[1;34m\u001b[0m\n\u001b[1;32m----> 1\u001b[1;33m \u001b[0mmodel1\u001b[0m\u001b[1;33m.\u001b[0m\u001b[0mpredict_classes\u001b[0m\u001b[1;33m(\u001b[0m\u001b[0mX\u001b[0m\u001b[1;33m[\u001b[0m\u001b[1;36m33\u001b[0m\u001b[1;33m:\u001b[0m\u001b[1;36m2\u001b[0m\u001b[1;33m]\u001b[0m\u001b[1;33m)\u001b[0m\u001b[1;33m\u001b[0m\u001b[1;33m\u001b[0m\u001b[0m\n\u001b[0m",
      "\u001b[1;32mc:\\users\\aarti\\anaconda3\\envs\\torch\\lib\\site-packages\\tensorflow\\python\\util\\deprecation.py\u001b[0m in \u001b[0;36mnew_func\u001b[1;34m(*args, **kwargs)\u001b[0m\n\u001b[0;32m    322\u001b[0m               \u001b[1;34m'in a future version'\u001b[0m \u001b[1;32mif\u001b[0m \u001b[0mdate\u001b[0m \u001b[1;32mis\u001b[0m \u001b[1;32mNone\u001b[0m \u001b[1;32melse\u001b[0m \u001b[1;33m(\u001b[0m\u001b[1;34m'after %s'\u001b[0m \u001b[1;33m%\u001b[0m \u001b[0mdate\u001b[0m\u001b[1;33m)\u001b[0m\u001b[1;33m,\u001b[0m\u001b[1;33m\u001b[0m\u001b[1;33m\u001b[0m\u001b[0m\n\u001b[0;32m    323\u001b[0m               instructions)\n\u001b[1;32m--> 324\u001b[1;33m       \u001b[1;32mreturn\u001b[0m \u001b[0mfunc\u001b[0m\u001b[1;33m(\u001b[0m\u001b[1;33m*\u001b[0m\u001b[0margs\u001b[0m\u001b[1;33m,\u001b[0m \u001b[1;33m**\u001b[0m\u001b[0mkwargs\u001b[0m\u001b[1;33m)\u001b[0m\u001b[1;33m\u001b[0m\u001b[1;33m\u001b[0m\u001b[0m\n\u001b[0m\u001b[0;32m    325\u001b[0m     return tf_decorator.make_decorator(\n\u001b[0;32m    326\u001b[0m         \u001b[0mfunc\u001b[0m\u001b[1;33m,\u001b[0m \u001b[0mnew_func\u001b[0m\u001b[1;33m,\u001b[0m \u001b[1;34m'deprecated'\u001b[0m\u001b[1;33m,\u001b[0m\u001b[1;33m\u001b[0m\u001b[1;33m\u001b[0m\u001b[0m\n",
      "\u001b[1;32mc:\\users\\aarti\\anaconda3\\envs\\torch\\lib\\site-packages\\tensorflow\\python\\keras\\engine\\sequential.py\u001b[0m in \u001b[0;36mpredict_classes\u001b[1;34m(self, x, batch_size, verbose)\u001b[0m\n\u001b[0;32m    357\u001b[0m         \u001b[0mA\u001b[0m \u001b[0mnumpy\u001b[0m \u001b[0marray\u001b[0m \u001b[0mof\u001b[0m \u001b[1;32mclass\u001b[0m \u001b[0mpredictions\u001b[0m\u001b[1;33m.\u001b[0m\u001b[1;33m\u001b[0m\u001b[1;33m\u001b[0m\u001b[0m\n\u001b[0;32m    358\u001b[0m     \"\"\"\n\u001b[1;32m--> 359\u001b[1;33m     \u001b[0mproba\u001b[0m \u001b[1;33m=\u001b[0m \u001b[0mself\u001b[0m\u001b[1;33m.\u001b[0m\u001b[0mpredict\u001b[0m\u001b[1;33m(\u001b[0m\u001b[0mx\u001b[0m\u001b[1;33m,\u001b[0m \u001b[0mbatch_size\u001b[0m\u001b[1;33m=\u001b[0m\u001b[0mbatch_size\u001b[0m\u001b[1;33m,\u001b[0m \u001b[0mverbose\u001b[0m\u001b[1;33m=\u001b[0m\u001b[0mverbose\u001b[0m\u001b[1;33m)\u001b[0m\u001b[1;33m\u001b[0m\u001b[1;33m\u001b[0m\u001b[0m\n\u001b[0m\u001b[0;32m    360\u001b[0m     \u001b[1;32mif\u001b[0m \u001b[0mproba\u001b[0m\u001b[1;33m.\u001b[0m\u001b[0mshape\u001b[0m\u001b[1;33m[\u001b[0m\u001b[1;33m-\u001b[0m\u001b[1;36m1\u001b[0m\u001b[1;33m]\u001b[0m \u001b[1;33m>\u001b[0m \u001b[1;36m1\u001b[0m\u001b[1;33m:\u001b[0m\u001b[1;33m\u001b[0m\u001b[1;33m\u001b[0m\u001b[0m\n\u001b[0;32m    361\u001b[0m       \u001b[1;32mreturn\u001b[0m \u001b[0mproba\u001b[0m\u001b[1;33m.\u001b[0m\u001b[0margmax\u001b[0m\u001b[1;33m(\u001b[0m\u001b[0maxis\u001b[0m\u001b[1;33m=\u001b[0m\u001b[1;33m-\u001b[0m\u001b[1;36m1\u001b[0m\u001b[1;33m)\u001b[0m\u001b[1;33m\u001b[0m\u001b[1;33m\u001b[0m\u001b[0m\n",
      "\u001b[1;32mc:\\users\\aarti\\anaconda3\\envs\\torch\\lib\\site-packages\\tensorflow\\python\\keras\\engine\\training.py\u001b[0m in \u001b[0;36m_method_wrapper\u001b[1;34m(self, *args, **kwargs)\u001b[0m\n\u001b[0;32m     86\u001b[0m       raise ValueError('{} is not supported in multi-worker mode.'.format(\n\u001b[0;32m     87\u001b[0m           method.__name__))\n\u001b[1;32m---> 88\u001b[1;33m     \u001b[1;32mreturn\u001b[0m \u001b[0mmethod\u001b[0m\u001b[1;33m(\u001b[0m\u001b[0mself\u001b[0m\u001b[1;33m,\u001b[0m \u001b[1;33m*\u001b[0m\u001b[0margs\u001b[0m\u001b[1;33m,\u001b[0m \u001b[1;33m**\u001b[0m\u001b[0mkwargs\u001b[0m\u001b[1;33m)\u001b[0m\u001b[1;33m\u001b[0m\u001b[1;33m\u001b[0m\u001b[0m\n\u001b[0m\u001b[0;32m     89\u001b[0m \u001b[1;33m\u001b[0m\u001b[0m\n\u001b[0;32m     90\u001b[0m   return tf_decorator.make_decorator(\n",
      "\u001b[1;32mc:\\users\\aarti\\anaconda3\\envs\\torch\\lib\\site-packages\\tensorflow\\python\\keras\\engine\\training.py\u001b[0m in \u001b[0;36mpredict\u001b[1;34m(self, x, batch_size, verbose, steps, callbacks, max_queue_size, workers, use_multiprocessing)\u001b[0m\n\u001b[0;32m   1283\u001b[0m             \u001b[0mcallbacks\u001b[0m\u001b[1;33m.\u001b[0m\u001b[0mon_predict_batch_end\u001b[0m\u001b[1;33m(\u001b[0m\u001b[0mstep\u001b[0m\u001b[1;33m,\u001b[0m \u001b[1;33m{\u001b[0m\u001b[1;34m'outputs'\u001b[0m\u001b[1;33m:\u001b[0m \u001b[0mbatch_outputs\u001b[0m\u001b[1;33m}\u001b[0m\u001b[1;33m)\u001b[0m\u001b[1;33m\u001b[0m\u001b[1;33m\u001b[0m\u001b[0m\n\u001b[0;32m   1284\u001b[0m       \u001b[0mcallbacks\u001b[0m\u001b[1;33m.\u001b[0m\u001b[0mon_predict_end\u001b[0m\u001b[1;33m(\u001b[0m\u001b[1;33m)\u001b[0m\u001b[1;33m\u001b[0m\u001b[1;33m\u001b[0m\u001b[0m\n\u001b[1;32m-> 1285\u001b[1;33m     \u001b[0mall_outputs\u001b[0m \u001b[1;33m=\u001b[0m \u001b[0mnest\u001b[0m\u001b[1;33m.\u001b[0m\u001b[0mmap_structure_up_to\u001b[0m\u001b[1;33m(\u001b[0m\u001b[0mbatch_outputs\u001b[0m\u001b[1;33m,\u001b[0m \u001b[0mconcat\u001b[0m\u001b[1;33m,\u001b[0m \u001b[0moutputs\u001b[0m\u001b[1;33m)\u001b[0m\u001b[1;33m\u001b[0m\u001b[1;33m\u001b[0m\u001b[0m\n\u001b[0m\u001b[0;32m   1286\u001b[0m     \u001b[1;32mreturn\u001b[0m \u001b[0mtf_utils\u001b[0m\u001b[1;33m.\u001b[0m\u001b[0mto_numpy_or_python_type\u001b[0m\u001b[1;33m(\u001b[0m\u001b[0mall_outputs\u001b[0m\u001b[1;33m)\u001b[0m\u001b[1;33m\u001b[0m\u001b[1;33m\u001b[0m\u001b[0m\n\u001b[0;32m   1287\u001b[0m \u001b[1;33m\u001b[0m\u001b[0m\n",
      "\u001b[1;31mUnboundLocalError\u001b[0m: local variable 'batch_outputs' referenced before assignment"
     ]
    }
   ],
   "source": [
    "model1.predict_classes(X[33:2])"
   ]
  },
  {
   "cell_type": "code",
   "execution_count": 9,
   "metadata": {},
   "outputs": [
    {
     "data": {
      "text/plain": [
       "array([[[[0.07058824, 0.01176471, 0.03137255],\n",
       "         [0.07058824, 0.01176471, 0.03137255],\n",
       "         [0.07058824, 0.01176471, 0.03137255],\n",
       "         ...,\n",
       "         [0.11764706, 0.05490196, 0.08235294],\n",
       "         [0.11764706, 0.05490196, 0.08235294],\n",
       "         [0.12156863, 0.05882353, 0.08627451]],\n",
       "\n",
       "        [[0.09019608, 0.03137255, 0.04705882],\n",
       "         [0.09019608, 0.03137255, 0.04705882],\n",
       "         [0.09019608, 0.03137255, 0.04705882],\n",
       "         ...,\n",
       "         [0.14509804, 0.08627451, 0.10980392],\n",
       "         [0.14901961, 0.08627451, 0.10980392],\n",
       "         [0.14901961, 0.09019608, 0.11372549]],\n",
       "\n",
       "        [[0.09803922, 0.02745098, 0.04313725],\n",
       "         [0.09803922, 0.02745098, 0.04313725],\n",
       "         [0.09803922, 0.02745098, 0.04313725],\n",
       "         ...,\n",
       "         [0.11372549, 0.05490196, 0.07058824],\n",
       "         [0.11764706, 0.05882353, 0.0745098 ],\n",
       "         [0.12156863, 0.0627451 , 0.0745098 ]],\n",
       "\n",
       "        ...,\n",
       "\n",
       "        [[0.30980392, 0.01960784, 0.68235294],\n",
       "         [0.29803922, 0.01960784, 0.68235294],\n",
       "         [0.27843137, 0.01960784, 0.6745098 ],\n",
       "         ...,\n",
       "         [0.        , 0.        , 0.        ],\n",
       "         [0.        , 0.        , 0.        ],\n",
       "         [0.        , 0.        , 0.        ]],\n",
       "\n",
       "        [[0.29019608, 0.01960784, 0.65882353],\n",
       "         [0.2745098 , 0.01568627, 0.64705882],\n",
       "         [0.25882353, 0.01568627, 0.63921569],\n",
       "         ...,\n",
       "         [0.        , 0.        , 0.        ],\n",
       "         [0.        , 0.        , 0.        ],\n",
       "         [0.        , 0.        , 0.        ]],\n",
       "\n",
       "        [[0.27843137, 0.02352941, 0.63921569],\n",
       "         [0.2627451 , 0.01568627, 0.62352941],\n",
       "         [0.24313725, 0.01176471, 0.61568627],\n",
       "         ...,\n",
       "         [0.        , 0.        , 0.        ],\n",
       "         [0.        , 0.        , 0.        ],\n",
       "         [0.        , 0.        , 0.        ]]],\n",
       "\n",
       "\n",
       "       [[[0.68235294, 0.85882353, 0.91372549],\n",
       "         [0.67843137, 0.85490196, 0.90980392],\n",
       "         [0.6745098 , 0.85098039, 0.90588235],\n",
       "         ...,\n",
       "         [0.45098039, 0.55294118, 0.7372549 ],\n",
       "         [0.45490196, 0.55686275, 0.74117647],\n",
       "         [0.4627451 , 0.56470588, 0.74901961]],\n",
       "\n",
       "        [[0.68235294, 0.85882353, 0.91372549],\n",
       "         [0.67843137, 0.85490196, 0.90980392],\n",
       "         [0.67843137, 0.85098039, 0.90980392],\n",
       "         ...,\n",
       "         [0.45490196, 0.55686275, 0.7372549 ],\n",
       "         [0.45098039, 0.55294118, 0.73333333],\n",
       "         [0.44705882, 0.54901961, 0.73333333]],\n",
       "\n",
       "        [[0.67843137, 0.85490196, 0.90980392],\n",
       "         [0.6745098 , 0.85098039, 0.90588235],\n",
       "         [0.6745098 , 0.85098039, 0.90588235],\n",
       "         ...,\n",
       "         [0.47843137, 0.58039216, 0.76078431],\n",
       "         [0.4627451 , 0.56470588, 0.74509804],\n",
       "         [0.45098039, 0.55294118, 0.73333333]],\n",
       "\n",
       "        ...,\n",
       "\n",
       "        [[0.09019608, 0.03529412, 0.2627451 ],\n",
       "         [0.11372549, 0.05490196, 0.29019608],\n",
       "         [0.1372549 , 0.07843137, 0.32941176],\n",
       "         ...,\n",
       "         [0.04313725, 0.06666667, 0.11764706],\n",
       "         [0.04313725, 0.06666667, 0.11764706],\n",
       "         [0.04313725, 0.06666667, 0.11764706]],\n",
       "\n",
       "        [[0.09411765, 0.03921569, 0.26666667],\n",
       "         [0.12156863, 0.05882353, 0.30196078],\n",
       "         [0.14509804, 0.08235294, 0.3372549 ],\n",
       "         ...,\n",
       "         [0.05490196, 0.07843137, 0.12941176],\n",
       "         [0.05490196, 0.07843137, 0.12941176],\n",
       "         [0.05490196, 0.07843137, 0.12941176]],\n",
       "\n",
       "        [[0.10588235, 0.05098039, 0.27843137],\n",
       "         [0.12156863, 0.0627451 , 0.30980392],\n",
       "         [0.14509804, 0.0745098 , 0.34509804],\n",
       "         ...,\n",
       "         [0.05490196, 0.08627451, 0.1372549 ],\n",
       "         [0.05098039, 0.08235294, 0.13333333],\n",
       "         [0.05098039, 0.08235294, 0.13333333]]],\n",
       "\n",
       "\n",
       "       [[[0.99607843, 0.99607843, 0.99607843],\n",
       "         [0.99607843, 0.99607843, 0.99607843],\n",
       "         [0.99215686, 0.99215686, 0.99215686],\n",
       "         ...,\n",
       "         [0.98823529, 0.99215686, 0.98431373],\n",
       "         [0.98823529, 0.99215686, 0.98431373],\n",
       "         [0.98823529, 0.99215686, 0.98431373]],\n",
       "\n",
       "        [[0.99607843, 0.99607843, 0.99607843],\n",
       "         [0.99607843, 0.99607843, 0.99607843],\n",
       "         [0.99215686, 0.99215686, 0.99215686],\n",
       "         ...,\n",
       "         [0.98823529, 0.99215686, 0.98431373],\n",
       "         [0.98823529, 0.99215686, 0.98431373],\n",
       "         [0.98823529, 0.99215686, 0.98431373]],\n",
       "\n",
       "        [[0.98823529, 0.98823529, 0.98823529],\n",
       "         [0.98823529, 0.98823529, 0.98823529],\n",
       "         [0.98431373, 0.98431373, 0.98431373],\n",
       "         ...,\n",
       "         [0.99215686, 0.99215686, 0.99215686],\n",
       "         [0.99215686, 0.99607843, 0.99215686],\n",
       "         [0.99215686, 0.99607843, 0.99215686]],\n",
       "\n",
       "        ...,\n",
       "\n",
       "        [[0.59215686, 0.67058824, 0.75686275],\n",
       "         [0.59215686, 0.67058824, 0.75686275],\n",
       "         [0.64313725, 0.70980392, 0.80392157],\n",
       "         ...,\n",
       "         [0.37254902, 0.39215686, 0.51372549],\n",
       "         [0.35294118, 0.38431373, 0.50196078],\n",
       "         [0.35294118, 0.38431373, 0.50196078]],\n",
       "\n",
       "        [[0.47058824, 0.54901961, 0.64705882],\n",
       "         [0.47058824, 0.54901961, 0.64705882],\n",
       "         [0.52941176, 0.60392157, 0.70588235],\n",
       "         ...,\n",
       "         [0.37254902, 0.39215686, 0.51372549],\n",
       "         [0.34901961, 0.38823529, 0.50588235],\n",
       "         [0.34901961, 0.38823529, 0.50588235]],\n",
       "\n",
       "        [[0.47058824, 0.54901961, 0.64705882],\n",
       "         [0.47058824, 0.54901961, 0.64705882],\n",
       "         [0.52941176, 0.60392157, 0.70588235],\n",
       "         ...,\n",
       "         [0.37254902, 0.39215686, 0.51372549],\n",
       "         [0.34901961, 0.38823529, 0.50588235],\n",
       "         [0.34901961, 0.38823529, 0.50588235]]]])"
      ]
     },
     "execution_count": 9,
     "metadata": {},
     "output_type": "execute_result"
    }
   ],
   "source": [
    "X"
   ]
  },
  {
   "cell_type": "code",
   "execution_count": null,
   "metadata": {},
   "outputs": [],
   "source": []
  }
 ],
 "metadata": {
  "kernelspec": {
   "display_name": "Python 3",
   "language": "python",
   "name": "python3"
  },
  "language_info": {
   "codemirror_mode": {
    "name": "ipython",
    "version": 3
   },
   "file_extension": ".py",
   "mimetype": "text/x-python",
   "name": "python",
   "nbconvert_exporter": "python",
   "pygments_lexer": "ipython3",
   "version": "3.6.12"
  }
 },
 "nbformat": 4,
 "nbformat_minor": 4
}
