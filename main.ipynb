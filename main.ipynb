{
 "cells": [
  {
   "cell_type": "code",
   "execution_count": null,
   "metadata": {},
   "outputs": [],
   "source": [
    "import cv2\n",
    "import numpy as np\n",
    "from fdet import RetinaFace"
   ]
  },
  {
   "cell_type": "code",
   "execution_count": null,
   "metadata": {},
   "outputs": [],
   "source": [
    "detector = RetinaFace(backbone='RESNET50',threshold=0.5)"
   ]
  },
  {
   "cell_type": "code",
   "execution_count": null,
   "metadata": {},
   "outputs": [],
   "source": [
    "cap = cv2.VideoCapture('1.mp4')\n",
    "frame_width = int(cap.get(3)) \n",
    "frame_height = int(cap.get(4)) \n",
    "   \n",
    "size = (frame_width, frame_height) \n",
    "\n",
    "output = cv2.VideoWriter('output.avi',  \n",
    "                         cv2.VideoWriter_fourcc(*'MJPG'), \n",
    "                         10, size) "
   ]
  },
  {
   "cell_type": "code",
   "execution_count": null,
   "metadata": {},
   "outputs": [],
   "source": [
    "\n",
    "count=0\n",
    "while(1):\n",
    "            \n",
    "    ret,image = cap.read()\n",
    "                    \n",
    "    image = cv2.cvtColor(image, cv2.COLOR_BGR2RGB)\n",
    "                \n",
    "    result = detector.detect(image)\n",
    "                \n",
    "    if count == 0:\n",
    "        from tensorflow.keras import models\n",
    "        model = models.load_model('face_mask')\n",
    "        count=1\n",
    "    boxes = []\n",
    "    if len(result) > 0:\n",
    "                \n",
    "        for i in range(len(result)):\n",
    "            boxes.append(result[i]['box'])\n",
    "                        \n",
    "        image = cv2.cvtColor(image, cv2.COLOR_RGB2BGR)\n",
    "                    \n",
    "        for (x, y, w, h) in boxes:\n",
    "                \n",
    "            face = image[max(y-5,0):y+h+5,max(x-5,0):x+w+5]\n",
    "            face = cv2.resize(face, (128, 128),interpolation=cv2.INTER_CUBIC)\n",
    "                    \n",
    "            face = face.reshape(1,128,128,3)\n",
    "            face = face / 255\n",
    "            target =  model.predict(face)[0][0]\n",
    "    \n",
    "            if target > 0.5:\n",
    "                cv2.rectangle(image, (x,y), (x+w, y+h), (0, 0, 225), 2)\n",
    "            else:\n",
    "                cv2.rectangle(image, (x, y), (x+w, y+h), (0, 255, 0), 2)\n",
    "                \n",
    "    else:\n",
    "        image = cv2.cvtColor(image, cv2.COLOR_RGB2BGR)\n",
    "    \n",
    "    cv2.imshow('webcam',image)\n",
    "    \n",
    "    output.write(image)\n",
    "\n",
    "    if cv2.waitKey(1) == 13:\n",
    "        break\n",
    "                    \n",
    "                    \n",
    "cap.release()\n",
    "output.release() \n",
    "cv2.destroyAllWindows()\n",
    "          "
   ]
  },
  {
   "cell_type": "code",
   "execution_count": null,
   "metadata": {},
   "outputs": [],
   "source": []
  },
  {
   "cell_type": "code",
   "execution_count": null,
   "metadata": {},
   "outputs": [],
   "source": []
  },
  {
   "cell_type": "code",
   "execution_count": null,
   "metadata": {},
   "outputs": [],
   "source": []
  }
 ],
 "metadata": {
  "kernelspec": {
   "display_name": "Python 3",
   "language": "python",
   "name": "python3"
  },
  "language_info": {
   "codemirror_mode": {
    "name": "ipython",
    "version": 3
   },
   "file_extension": ".py",
   "mimetype": "text/x-python",
   "name": "python",
   "nbconvert_exporter": "python",
   "pygments_lexer": "ipython3",
   "version": "3.7.6"
  }
 },
 "nbformat": 4,
 "nbformat_minor": 4
}
